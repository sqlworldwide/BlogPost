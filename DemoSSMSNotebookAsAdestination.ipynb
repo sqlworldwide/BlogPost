﻿{
    "metadata": {
        "kernelspec": {
            "name": "SQL",
            "display_name": "SQL",
            "language": "sql"
        },
        "language_info": {
            "name": "sql",
            "version": ""
        },
        "kernel_spec": {
            "name": "SQL",
            "language": "sql",
            "display_name": "SQL"
        }
    },
    "nbformat_minor": 2,
    "nbformat": 4,
    "cells": [
        {
            "cell_type": "markdown",
            "source": [
                "# Demo: SSMS - Notebook as a destination for Generate Scripts wizard\r\n",
                "Written by: **Taiob Ali**\r\n",
                "\r\n",
                "**https://SqlWorldWide.com**\r\n",
                "\r\n",
                "Reference:\r\n",
                "\r\n",
                "[Release notes for SQL Server Management Studio (SSMS) 18.5](https://docs.microsoft.com/en-us/sql/ssms/release-notes-ssms?view=sql-server-ver15#whats-new-in-185)\r\n",
                "\r\n",
                "This script was initially generated from SQL Server Management Studio and then edited by me.\r\n",
                ""
            ],
            "metadata": {
                "azdata_cell_guid": "ffdc7c03-fc61-4446-b4cc-ed77424cc6e6"
            }
        },
        {
            "cell_type": "markdown",
            "source": [
                "# Object Name:\r\n",
                "## [AdeventureWorks].[dbo].[uspGetManagerEmployees]"
            ],
            "metadata": {
                "urn": "Server[@Name='TAALI-EU2\\SQL2019']/Database[@Name='AdventureWorks']/StoredProcedure[@Name='uspGetManagerEmployees' and @Schema='dbo']",
                "object_type": "StoredProcedure",
                "azdata_cell_guid": "ef82f395-646b-47ea-9203-e5b1f0640ca5"
            }
        },
        {
            "cell_type": "code",
            "source": [
                "USE [AdventureWorks]\r\n",
                "GO\r\n",
                "SET ANSI_NULLS ON\r\n",
                "GO\r\n",
                "SET QUOTED_IDENTIFIER ON\r\n",
                "GO\r\n",
                "\r\n",
                "CREATE PROCEDURE [dbo].[uspGetManagerEmployees]\r\n",
                "    @BusinessEntityID [int]\r\n",
                "AS\r\n",
                "BEGIN\r\n",
                "    SET NOCOUNT ON;\r\n",
                "\r\n",
                "    -- Use recursive query to list out all Employees required for a particular Manager\r\n",
                "    WITH [EMP_cte]([BusinessEntityID], [OrganizationNode], [FirstName], [LastName], [RecursionLevel]) -- CTE name and columns\r\n",
                "    AS (\r\n",
                "        SELECT e.[BusinessEntityID], e.[OrganizationNode], p.[FirstName], p.[LastName], 0 -- Get the initial list of Employees for Manager n\r\n",
                "        FROM [HumanResources].[Employee] e \r\n",
                "\t\t\tINNER JOIN [Person].[Person] p \r\n",
                "\t\t\tON p.[BusinessEntityID] = e.[BusinessEntityID]\r\n",
                "        WHERE e.[BusinessEntityID] = @BusinessEntityID\r\n",
                "        UNION ALL\r\n",
                "        SELECT e.[BusinessEntityID], e.[OrganizationNode], p.[FirstName], p.[LastName], [RecursionLevel] + 1 -- Join recursive member to anchor\r\n",
                "        FROM [HumanResources].[Employee] e \r\n",
                "            INNER JOIN [EMP_cte]\r\n",
                "            ON e.[OrganizationNode].GetAncestor(1) = [EMP_cte].[OrganizationNode]\r\n",
                "\t\t\tINNER JOIN [Person].[Person] p \r\n",
                "\t\t\tON p.[BusinessEntityID] = e.[BusinessEntityID]\r\n",
                "        )\r\n",
                "    -- Join back to Employee to return the manager name \r\n",
                "    SELECT [EMP_cte].[RecursionLevel], [EMP_cte].[OrganizationNode].ToString() as [OrganizationNode], p.[FirstName] AS 'ManagerFirstName', p.[LastName] AS 'ManagerLastName',\r\n",
                "        [EMP_cte].[BusinessEntityID], [EMP_cte].[FirstName], [EMP_cte].[LastName] -- Outer select from the CTE\r\n",
                "    FROM [EMP_cte] \r\n",
                "        INNER JOIN [HumanResources].[Employee] e \r\n",
                "        ON [EMP_cte].[OrganizationNode].GetAncestor(1) = e.[OrganizationNode]\r\n",
                "\t\t\tINNER JOIN [Person].[Person] p \r\n",
                "\t\t\tON p.[BusinessEntityID] = e.[BusinessEntityID]\r\n",
                "    ORDER BY [RecursionLevel], [EMP_cte].[OrganizationNode].ToString()\r\n",
                "    OPTION (MAXRECURSION 25) \r\n",
                "END;\r\n",
                "GO\r\n",
                ""
            ],
            "metadata": {
                "urn": "Server[@Name='TAALI-EU2\\SQL2019']/Database[@Name='AdventureWorks']/StoredProcedure[@Name='uspGetManagerEmployees' and @Schema='dbo']",
                "object_type": "StoredProcedure",
                "azdata_cell_guid": "499ad0a5-fe80-49d6-9ae5-f54cce83f7c7"
            },
            "outputs": [],
            "execution_count": null
        },
        {
            "cell_type": "markdown",
            "source": [
                "### Calling [AdeventureWorks].[dbo].[uspGetManagerEmployees]"
            ],
            "metadata": {
                "azdata_cell_guid": "2950f86e-6e12-480a-a9f0-2e944c5d7bff"
            }
        },
        {
            "cell_type": "code",
            "source": [
                "USE [AdventureWorks]\r\n",
                "GO\r\n",
                "EXEC [dbo].[uspGetManagerEmployees]\r\n",
                "\t\t@BusinessEntityID = 12\r\n",
                "GO"
            ],
            "metadata": {
                "azdata_cell_guid": "c5b311e4-3bd8-4f3e-a8f4-97ed42f52a3e",
                "tags": []
            },
            "outputs": [
                {
                    "output_type": "display_data",
                    "data": {
                        "text/html": "Commands completed successfully."
                    },
                    "metadata": {}
                },
                {
                    "output_type": "display_data",
                    "data": {
                        "text/html": "Commands completed successfully."
                    },
                    "metadata": {}
                },
                {
                    "output_type": "display_data",
                    "data": {
                        "text/html": "Total execution time: 00:00:00.791"
                    },
                    "metadata": {}
                },
                {
                    "output_type": "execute_result",
                    "execution_count": 1,
                    "data": {
                        "application/vnd.dataresource+json": {
                            "schema": {
                                "fields": [
                                    {
                                        "name": "RecursionLevel"
                                    },
                                    {
                                        "name": "OrganizationNode"
                                    },
                                    {
                                        "name": "ManagerFirstName"
                                    },
                                    {
                                        "name": "ManagerLastName"
                                    },
                                    {
                                        "name": "BusinessEntityID"
                                    },
                                    {
                                        "name": "FirstName"
                                    },
                                    {
                                        "name": "LastName"
                                    }
                                ]
                            },
                            "data": [
                                {
                                    "0": "0",
                                    "1": "/1/1/5/1/",
                                    "2": "Ovidiu",
                                    "3": "Cracium",
                                    "4": "12",
                                    "5": "Thierry",
                                    "6": "D'Hers"
                                }
                            ]
                        },
                        "text/html": "<table><tr><th>RecursionLevel</th><th>OrganizationNode</th><th>ManagerFirstName</th><th>ManagerLastName</th><th>BusinessEntityID</th><th>FirstName</th><th>LastName</th></tr><tr><td>0</td><td>/1/1/5/1/</td><td>Ovidiu</td><td>Cracium</td><td>12</td><td>Thierry</td><td>D'Hers</td></tr></table>"
                    },
                    "metadata": {}
                }
            ],
            "execution_count": 1
        }
    ]
}